{
    "cells": [
        {
            "metadata": {},
            "cell_type": "markdown",
            "source": "#Description\nRainfall in India during various years"
        },
        {
            "metadata": {},
            "cell_type": "code",
            "source": "\nimport os, types\nimport pandas as pd\nfrom botocore.client import Config\nimport ibm_boto3\n\ndef __iter__(self): return 0\n\n# @hidden_cell\n# The following code accesses a file in your IBM Cloud Object Storage. It includes your credentials.\n# You might want to remove those credentials before you share the notebook.\n\nif os.environ.get('RUNTIME_ENV_LOCATION_TYPE') == 'external':\n    endpoint_6344675ab17e42dba6649a0565d3fe43 = 'https://s3.eu.cloud-object-storage.appdomain.cloud'\nelse:\n    endpoint_6344675ab17e42dba6649a0565d3fe43 = 'https://s3.private.eu.cloud-object-storage.appdomain.cloud'\n\nclient_6344675ab17e42dba6649a0565d3fe43 = ibm_boto3.client(service_name='s3',\n    ibm_api_key_id='MFfyw6Ahp06UoTmCeMMrWX_FxAYOSBpb_SgdVDjasCOU',\n    ibm_auth_endpoint=\"https://iam.cloud.ibm.com/oidc/token\",\n    config=Config(signature_version='oauth'),\n    endpoint_url=endpoint_6344675ab17e42dba6649a0565d3fe43)\n\nbody = client_6344675ab17e42dba6649a0565d3fe43.get_object(Bucket='jupyternotebooks-donotdelete-pr-z7nzkwbpo7ri4x',Key='rainfall in india 1901-2015.csv')['Body']\n# add missing __iter__ method, so pandas accepts body as file-like object\nif not hasattr(body, \"__iter__\"): body.__iter__ = types.MethodType( __iter__, body )\n\ndf_data_1 = pd.read_csv(body)\ndf_data_1.head()\n",
            "execution_count": 1,
            "outputs": [
                {
                    "output_type": "execute_result",
                    "execution_count": 1,
                    "data": {
                        "text/plain": "                 SUBDIVISION  YEAR   JAN    FEB   MAR    APR    MAY    JUN  \\\n0  ANDAMAN & NICOBAR ISLANDS  1901  49.2   87.1  29.2    2.3  528.8  517.5   \n1  ANDAMAN & NICOBAR ISLANDS  1902   0.0  159.8  12.2    0.0  446.1  537.1   \n2  ANDAMAN & NICOBAR ISLANDS  1903  12.7  144.0   0.0    1.0  235.1  479.9   \n3  ANDAMAN & NICOBAR ISLANDS  1904   9.4   14.7   0.0  202.4  304.5  495.1   \n4  ANDAMAN & NICOBAR ISLANDS  1905   1.3    0.0   3.3   26.9  279.5  628.7   \n\n     JUL    AUG    SEP    OCT    NOV    DEC  ANNUAL  Jan-Feb  Mar-May  \\\n0  365.1  481.1  332.6  388.5  558.2   33.6  3373.2    136.3    560.3   \n1  228.9  753.7  666.2  197.2  359.0  160.5  3520.7    159.8    458.3   \n2  728.4  326.7  339.0  181.2  284.4  225.0  2957.4    156.7    236.1   \n3  502.0  160.1  820.4  222.2  308.7   40.1  3079.6     24.1    506.9   \n4  368.7  330.5  297.0  260.7   25.4  344.7  2566.7      1.3    309.7   \n\n   Jun-Sep  Oct-Dec  \n0   1696.3    980.3  \n1   2185.9    716.7  \n2   1874.0    690.6  \n3   1977.6    571.0  \n4   1624.9    630.8  ",
                        "text/html": "<div>\n<style scoped>\n    .dataframe tbody tr th:only-of-type {\n        vertical-align: middle;\n    }\n\n    .dataframe tbody tr th {\n        vertical-align: top;\n    }\n\n    .dataframe thead th {\n        text-align: right;\n    }\n</style>\n<table border=\"1\" class=\"dataframe\">\n  <thead>\n    <tr style=\"text-align: right;\">\n      <th></th>\n      <th>SUBDIVISION</th>\n      <th>YEAR</th>\n      <th>JAN</th>\n      <th>FEB</th>\n      <th>MAR</th>\n      <th>APR</th>\n      <th>MAY</th>\n      <th>JUN</th>\n      <th>JUL</th>\n      <th>AUG</th>\n      <th>SEP</th>\n      <th>OCT</th>\n      <th>NOV</th>\n      <th>DEC</th>\n      <th>ANNUAL</th>\n      <th>Jan-Feb</th>\n      <th>Mar-May</th>\n      <th>Jun-Sep</th>\n      <th>Oct-Dec</th>\n    </tr>\n  </thead>\n  <tbody>\n    <tr>\n      <th>0</th>\n      <td>ANDAMAN &amp; NICOBAR ISLANDS</td>\n      <td>1901</td>\n      <td>49.2</td>\n      <td>87.1</td>\n      <td>29.2</td>\n      <td>2.3</td>\n      <td>528.8</td>\n      <td>517.5</td>\n      <td>365.1</td>\n      <td>481.1</td>\n      <td>332.6</td>\n      <td>388.5</td>\n      <td>558.2</td>\n      <td>33.6</td>\n      <td>3373.2</td>\n      <td>136.3</td>\n      <td>560.3</td>\n      <td>1696.3</td>\n      <td>980.3</td>\n    </tr>\n    <tr>\n      <th>1</th>\n      <td>ANDAMAN &amp; NICOBAR ISLANDS</td>\n      <td>1902</td>\n      <td>0.0</td>\n      <td>159.8</td>\n      <td>12.2</td>\n      <td>0.0</td>\n      <td>446.1</td>\n      <td>537.1</td>\n      <td>228.9</td>\n      <td>753.7</td>\n      <td>666.2</td>\n      <td>197.2</td>\n      <td>359.0</td>\n      <td>160.5</td>\n      <td>3520.7</td>\n      <td>159.8</td>\n      <td>458.3</td>\n      <td>2185.9</td>\n      <td>716.7</td>\n    </tr>\n    <tr>\n      <th>2</th>\n      <td>ANDAMAN &amp; NICOBAR ISLANDS</td>\n      <td>1903</td>\n      <td>12.7</td>\n      <td>144.0</td>\n      <td>0.0</td>\n      <td>1.0</td>\n      <td>235.1</td>\n      <td>479.9</td>\n      <td>728.4</td>\n      <td>326.7</td>\n      <td>339.0</td>\n      <td>181.2</td>\n      <td>284.4</td>\n      <td>225.0</td>\n      <td>2957.4</td>\n      <td>156.7</td>\n      <td>236.1</td>\n      <td>1874.0</td>\n      <td>690.6</td>\n    </tr>\n    <tr>\n      <th>3</th>\n      <td>ANDAMAN &amp; NICOBAR ISLANDS</td>\n      <td>1904</td>\n      <td>9.4</td>\n      <td>14.7</td>\n      <td>0.0</td>\n      <td>202.4</td>\n      <td>304.5</td>\n      <td>495.1</td>\n      <td>502.0</td>\n      <td>160.1</td>\n      <td>820.4</td>\n      <td>222.2</td>\n      <td>308.7</td>\n      <td>40.1</td>\n      <td>3079.6</td>\n      <td>24.1</td>\n      <td>506.9</td>\n      <td>1977.6</td>\n      <td>571.0</td>\n    </tr>\n    <tr>\n      <th>4</th>\n      <td>ANDAMAN &amp; NICOBAR ISLANDS</td>\n      <td>1905</td>\n      <td>1.3</td>\n      <td>0.0</td>\n      <td>3.3</td>\n      <td>26.9</td>\n      <td>279.5</td>\n      <td>628.7</td>\n      <td>368.7</td>\n      <td>330.5</td>\n      <td>297.0</td>\n      <td>260.7</td>\n      <td>25.4</td>\n      <td>344.7</td>\n      <td>2566.7</td>\n      <td>1.3</td>\n      <td>309.7</td>\n      <td>1624.9</td>\n      <td>630.8</td>\n    </tr>\n  </tbody>\n</table>\n</div>"
                    },
                    "metadata": {}
                }
            ]
        },
        {
            "metadata": {},
            "cell_type": "code",
            "source": "",
            "execution_count": null,
            "outputs": []
        }
    ],
    "metadata": {
        "kernelspec": {
            "name": "python3",
            "display_name": "Python 3.8",
            "language": "python"
        },
        "language_info": {
            "name": "python",
            "version": "3.8.12",
            "mimetype": "text/x-python",
            "codemirror_mode": {
                "name": "ipython",
                "version": 3
            },
            "pygments_lexer": "ipython3",
            "nbconvert_exporter": "python",
            "file_extension": ".py"
        }
    },
    "nbformat": 4,
    "nbformat_minor": 1
}